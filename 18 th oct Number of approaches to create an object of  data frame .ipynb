{
 "cells": [
  {
   "cell_type": "markdown",
   "id": "39bb2547-15a9-45b4-99d6-db7bbab146ab",
   "metadata": {},
   "source": [
    "## DataFrame"
   ]
  },
  {
   "cell_type": "code",
   "execution_count": 4,
   "id": "c3840989-70dc-48de-b10e-fe21401f842c",
   "metadata": {},
   "outputs": [],
   "source": [
    "# number of approaches to creata an object of DataFrame "
   ]
  },
  {
   "cell_type": "code",
   "execution_count": 5,
   "id": "62f852b7-6ee8-4b4e-926e-52e7263b89d8",
   "metadata": {},
   "outputs": [],
   "source": [
    "import pandas as pd \n",
    "import numpy as np"
   ]
  },
  {
   "cell_type": "code",
   "execution_count": 6,
   "id": "b131d59d-5d6a-4691-afec-bf7ac85f1276",
   "metadata": {},
   "outputs": [],
   "source": [
    "# creating the object fundamental data type values into DataFrame ---directly not possible \n",
    "# we convert fundamental data type into iterable objects and we can create data frame object "
   ]
  },
  {
   "cell_type": "code",
   "execution_count": 7,
   "id": "8c2c288a-c01e-42d9-b0f6-72627bc89ce2",
   "metadata": {},
   "outputs": [
    {
     "ename": "ValueError",
     "evalue": "DataFrame constructor not properly called!",
     "output_type": "error",
     "traceback": [
      "\u001b[1;31m---------------------------------------------------------------------------\u001b[0m",
      "\u001b[1;31mValueError\u001b[0m                                Traceback (most recent call last)",
      "\u001b[1;32m~\\AppData\\Local\\Temp\\ipykernel_12748\\3260381276.py\u001b[0m in \u001b[0;36m?\u001b[1;34m()\u001b[0m\n\u001b[0;32m      1\u001b[0m \u001b[0ma\u001b[0m\u001b[1;33m=\u001b[0m\u001b[1;36m10\u001b[0m\u001b[1;33m\u001b[0m\u001b[1;33m\u001b[0m\u001b[0m\n\u001b[1;32m----> 2\u001b[1;33m \u001b[0mdf\u001b[0m\u001b[1;33m=\u001b[0m\u001b[0mpd\u001b[0m\u001b[1;33m.\u001b[0m\u001b[0mDataFrame\u001b[0m\u001b[1;33m(\u001b[0m\u001b[0ma\u001b[0m\u001b[1;33m)\u001b[0m\u001b[1;33m\u001b[0m\u001b[1;33m\u001b[0m\u001b[0m\n\u001b[0m\u001b[0;32m      3\u001b[0m \u001b[0mprint\u001b[0m\u001b[1;33m(\u001b[0m\u001b[1;34m\"----------------------------------\"\u001b[0m\u001b[1;33m)\u001b[0m\u001b[1;33m\u001b[0m\u001b[1;33m\u001b[0m\u001b[0m\n\u001b[0;32m      4\u001b[0m \u001b[0mprint\u001b[0m\u001b[1;33m(\u001b[0m\u001b[0mdf\u001b[0m\u001b[1;33m)\u001b[0m\u001b[1;33m\u001b[0m\u001b[1;33m\u001b[0m\u001b[0m\n\u001b[0;32m      5\u001b[0m \u001b[0mprint\u001b[0m\u001b[1;33m(\u001b[0m\u001b[1;34m\"------------------------------------\"\u001b[0m\u001b[1;33m)\u001b[0m \u001b[1;31m#ValueError: DataFrame constructor not properly called\u001b[0m\u001b[1;33m\u001b[0m\u001b[1;33m\u001b[0m\u001b[0m\n",
      "\u001b[1;32m~\\anaconda3\\Lib\\site-packages\\pandas\\core\\frame.py\u001b[0m in \u001b[0;36m?\u001b[1;34m(self, data, index, columns, dtype, copy)\u001b[0m\n\u001b[0;32m    882\u001b[0m                 \u001b[1;33m)\u001b[0m\u001b[1;33m\u001b[0m\u001b[1;33m\u001b[0m\u001b[0m\n\u001b[0;32m    883\u001b[0m         \u001b[1;31m# For data is scalar\u001b[0m\u001b[1;33m\u001b[0m\u001b[1;33m\u001b[0m\u001b[0m\n\u001b[0;32m    884\u001b[0m         \u001b[1;32melse\u001b[0m\u001b[1;33m:\u001b[0m\u001b[1;33m\u001b[0m\u001b[1;33m\u001b[0m\u001b[0m\n\u001b[0;32m    885\u001b[0m             \u001b[1;32mif\u001b[0m \u001b[0mindex\u001b[0m \u001b[1;32mis\u001b[0m \u001b[1;32mNone\u001b[0m \u001b[1;32mor\u001b[0m \u001b[0mcolumns\u001b[0m \u001b[1;32mis\u001b[0m \u001b[1;32mNone\u001b[0m\u001b[1;33m:\u001b[0m\u001b[1;33m\u001b[0m\u001b[1;33m\u001b[0m\u001b[0m\n\u001b[1;32m--> 886\u001b[1;33m                 \u001b[1;32mraise\u001b[0m \u001b[0mValueError\u001b[0m\u001b[1;33m(\u001b[0m\u001b[1;34m\"DataFrame constructor not properly called!\"\u001b[0m\u001b[1;33m)\u001b[0m\u001b[1;33m\u001b[0m\u001b[1;33m\u001b[0m\u001b[0m\n\u001b[0m\u001b[0;32m    887\u001b[0m \u001b[1;33m\u001b[0m\u001b[0m\n\u001b[0;32m    888\u001b[0m             \u001b[0mindex\u001b[0m \u001b[1;33m=\u001b[0m \u001b[0mensure_index\u001b[0m\u001b[1;33m(\u001b[0m\u001b[0mindex\u001b[0m\u001b[1;33m)\u001b[0m\u001b[1;33m\u001b[0m\u001b[1;33m\u001b[0m\u001b[0m\n\u001b[0;32m    889\u001b[0m             \u001b[0mcolumns\u001b[0m \u001b[1;33m=\u001b[0m \u001b[0mensure_index\u001b[0m\u001b[1;33m(\u001b[0m\u001b[0mcolumns\u001b[0m\u001b[1;33m)\u001b[0m\u001b[1;33m\u001b[0m\u001b[1;33m\u001b[0m\u001b[0m\n",
      "\u001b[1;31mValueError\u001b[0m: DataFrame constructor not properly called!"
     ]
    }
   ],
   "source": [
    "a=10\n",
    "df=pd.DataFrame(a)\n",
    "print(\"----------------------------------\")\n",
    "print(df)\n",
    "print(\"------------------------------------\") #ValueError: DataFrame constructor not properly called"
   ]
  },
  {
   "cell_type": "code",
   "execution_count": 17,
   "id": "7a6d776d-7be2-4626-9d30-0252ca39aef5",
   "metadata": {},
   "outputs": [
    {
     "name": "stdout",
     "output_type": "stream",
     "text": [
      "---------------------------------\n",
      "    0\n",
      "0  10\n",
      "------------------------------------\n"
     ]
    }
   ],
   "source": [
    "a=10\n",
    "df=pd.DataFrame([a])\n",
    "print(\"---------------------------------\")\n",
    "print(df)\n",
    "print(\"------------------------------------\")"
   ]
  },
  {
   "cell_type": "code",
   "execution_count": 19,
   "id": "355a0034-5c44-4cd4-a1d2-80edd86a84b3",
   "metadata": {},
   "outputs": [
    {
     "name": "stdout",
     "output_type": "stream",
     "text": [
      "---------------------------------------\n",
      "       0\n",
      "0  10.23\n",
      "-----------------------------------------\n"
     ]
    }
   ],
   "source": [
    "a=10.23\n",
    "df=pd.DataFrame((a,))\n",
    "print(\"---------------------------------------\")\n",
    "print(df)\n",
    "print(\"-----------------------------------------\")"
   ]
  },
  {
   "cell_type": "code",
   "execution_count": 21,
   "id": "87d98105-310c-43ee-aaa1-2c64d0da1be3",
   "metadata": {},
   "outputs": [
    {
     "name": "stdout",
     "output_type": "stream",
     "text": [
      "----------------------------------\n",
      "        0\n",
      "0  PYTHON\n",
      "----------------------------------\n"
     ]
    }
   ],
   "source": [
    "# creating the data frame by by using the str to convert into the iterable object \n",
    "a=\"PYTHON\"\n",
    "df=pd.DataFrame([a])\n",
    "print(\"----------------------------------\")\n",
    "print(df)\n",
    "print(\"----------------------------------\")"
   ]
  },
  {
   "cell_type": "code",
   "execution_count": 22,
   "id": "9ecbca29-b76a-4f60-890a-8698bf6f7a80",
   "metadata": {},
   "outputs": [
    {
     "name": "stdout",
     "output_type": "stream",
     "text": [
      "-----------------------------------\n",
      "    0\n",
      "0  10\n",
      "1  12\n",
      "2  14\n",
      "3  16\n",
      "4  18\n",
      "5  20\n",
      "-----------------------------------\n"
     ]
    }
   ],
   "source": [
    "# creating the an object of dataframe by using the range object \n",
    "r=range(10,21,2)\n",
    "df=pd.DataFrame(r)\n",
    "print(\"-----------------------------------\")\n",
    "print(df)\n",
    "print('-----------------------------------')"
   ]
  },
  {
   "cell_type": "code",
   "execution_count": 25,
   "id": "3d09c31f-fa47-4876-ab78-8792cea0fe67",
   "metadata": {},
   "outputs": [
    {
     "name": "stdout",
     "output_type": "stream",
     "text": [
      "     0\n",
      "0  100\n",
      "1  200\n",
      "2  300\n",
      "3  400\n",
      "4  500\n"
     ]
    }
   ],
   "source": [
    "# creating an object of dataframe by using list object \n",
    "lst=[100,200,300,400,500]\n",
    "df=pd.DataFrame(lst)\n",
    "print(df)"
   ]
  },
  {
   "cell_type": "code",
   "execution_count": 27,
   "id": "8f1cb693-543c-4e83-a92a-4914c4c77c28",
   "metadata": {},
   "outputs": [
    {
     "name": "stdout",
     "output_type": "stream",
     "text": [
      "       0\n",
      "0  100.0\n",
      "1  200.0\n",
      "2  300.0\n",
      "3  400.0\n",
      "4  500.0\n"
     ]
    }
   ],
   "source": [
    "# creating an object of dataframe by using the list object with float data type \n",
    "lst=[100,200,300,400,500]\n",
    "df=pd.DataFrame(lst,dtype=float)\n",
    "print(df)"
   ]
  },
  {
   "cell_type": "code",
   "execution_count": 29,
   "id": "66313cc3-a860-40b0-a8f7-adfcc2b9eeaa",
   "metadata": {},
   "outputs": [
    {
     "name": "stdout",
     "output_type": "stream",
     "text": [
      "     0    1    2    3    4\n",
      "0  100  200  300  400  500\n"
     ]
    }
   ],
   "source": [
    "# creatin an object of dataframe by using the list object \n",
    "lst=[[100,200,300,400,500]]\n",
    "df=pd.DataFrame(lst)\n",
    "print(df)"
   ]
  },
  {
   "cell_type": "code",
   "execution_count": 30,
   "id": "4db7be1d-e35d-4b9f-bc3b-0d9c774ed530",
   "metadata": {},
   "outputs": [
    {
     "name": "stdout",
     "output_type": "stream",
     "text": [
      "         0\n",
      "0   Rossum\n",
      "1   Travis\n",
      "2    Kinni\n",
      "3  JHunter\n",
      "4   Dennis\n"
     ]
    }
   ],
   "source": [
    "# creating an object of data frame by using the list object \n",
    "lst=[\"Rossum\",\"Travis\",\"Kinni\",\"JHunter\",\"Dennis\"]\n",
    "df=pd.DataFrame(lst)\n",
    "print(df)"
   ]
  },
  {
   "cell_type": "code",
   "execution_count": 31,
   "id": "300bf520-c4e5-49d0-b451-7c707a3cbc15",
   "metadata": {},
   "outputs": [
    {
     "name": "stdout",
     "output_type": "stream",
     "text": [
      "        0       1      2        3\n",
      "0  Rossum  Travis  Kinni  JHunter\n"
     ]
    }
   ],
   "source": [
    "# creating an object of dataframe by using the list object\n",
    "lst=[[\"Rossum\",\"Travis\",\"Kinni\",\"JHunter\"]]\n",
    "df=pd.DataFrame(lst)\n",
    "print(df)"
   ]
  },
  {
   "cell_type": "code",
   "execution_count": 32,
   "id": "db4700c3-7c20-4209-b6ea-eab92b2d9048",
   "metadata": {},
   "outputs": [
    {
     "name": "stdout",
     "output_type": "stream",
     "text": [
      "        0      1       2        3\n",
      "0     100    200     300      400\n",
      "1  Rossum  Kinni  Travis  JHunter\n"
     ]
    }
   ],
   "source": [
    "# creating an object of dataframe by using the list object \n",
    "lst=[[100,200,300,400],[\"Rossum\",\"Kinni\",\"Travis\",\"JHunter\"]]\n",
    "df=pd.DataFrame(lst)\n",
    "print(df)"
   ]
  },
  {
   "cell_type": "code",
   "execution_count": 33,
   "id": "eff914f8-316d-4e5d-8cbb-6ec3be8ac275",
   "metadata": {},
   "outputs": [
    {
     "name": "stdout",
     "output_type": "stream",
     "text": [
      "            0       1      2        3\n",
      "ID        100     200    300      400\n",
      "NAMES  Rosuum  Travis  Kinni  JHunter\n"
     ]
    }
   ],
   "source": [
    "# creating an object of dataframe by ising the list object\n",
    "lst=[[100,200,300,400],[\"Rosuum\",\"Travis\",\"Kinni\",\"JHunter\"]]\n",
    "df=pd.DataFrame(lst,index=[\"ID\",\"NAMES\"])\n",
    "print(df)"
   ]
  },
  {
   "cell_type": "code",
   "execution_count": 34,
   "id": "6ec5851c-262b-4696-89b0-aa96906c1f6e",
   "metadata": {},
   "outputs": [
    {
     "name": "stdout",
     "output_type": "stream",
     "text": [
      "         Rec1   Rec2    Rec3     Rec4\n",
      "ID        100    200     300      400\n",
      "NAMES  Rossum  Kinni  Travis  JHunter\n"
     ]
    }
   ],
   "source": [
    "# creating an object of data frame by using the list object\n",
    "lst=[[100,200,300,400],[\"Rossum\",\"Kinni\",\"Travis\",\"JHunter\"]]\n",
    "df=pd.DataFrame(lst,index=[\"ID\",\"NAMES\"],columns=[\"Rec1\",\"Rec2\",\"Rec3\",\"Rec4\"])\n",
    "print(df)"
   ]
  },
  {
   "cell_type": "code",
   "execution_count": 36,
   "id": "bfbeea6a-781a-4015-a8ee-0bd047474cff",
   "metadata": {},
   "outputs": [
    {
     "name": "stdout",
     "output_type": "stream",
     "text": [
      "       ID NAME\n",
      "REC1  100   RS\n",
      "REC2  200   TR\n",
      "REC3  300   DR\n",
      "REC4  400   JH\n"
     ]
    }
   ],
   "source": [
    "lst=[[100,\"RS\"],[200,\"TR\"],[300,\"DR\"],[400,\"JH\"]]\n",
    "df=pd.DataFrame(lst,index=[\"REC1\",\"REC2\",\"REC3\",\"REC4\"],columns=[\"ID\",\"NAME\"])\n",
    "print(df)"
   ]
  },
  {
   "cell_type": "code",
   "execution_count": 37,
   "id": "725a4cfa-f3a8-4707-b3de-dd77536080ce",
   "metadata": {},
   "outputs": [
    {
     "name": "stdout",
     "output_type": "stream",
     "text": [
      "       ID NAMES\n",
      "Rec1  100    RS\n",
      "Rec2  200    TR\n",
      "Rec3  300    DR\n",
      "Rec4  400    JH\n"
     ]
    }
   ],
   "source": [
    "# creating an object of data frame by using the list object\n",
    "lst=[[100,\"RS\"],[200,\"TR\"],[300,\"DR\"],[400,\"JH\"]]\n",
    "df=pd.DataFrame(lst,index=[\"Rec\"+str(i) for i in range(1,5)],columns=[\"ID\",\"NAMES\"])\n",
    "print(df)"
   ]
  },
  {
   "cell_type": "code",
   "execution_count": 45,
   "id": "4543f9db-6e93-4774-8307-8243507ab991",
   "metadata": {},
   "outputs": [
    {
     "name": "stdout",
     "output_type": "stream",
     "text": [
      "       CAR LOAN  HOME LOAN  PERSONAL LOAN\n",
      "SBI         8.9        7.8            9.0\n",
      "ICICI       7.8        7.0            8.5\n",
      "HDFC        7.7        7.9           10.4\n"
     ]
    }
   ],
   "source": [
    "# creating an object of dataframe by using the list object \n",
    "lst=[[8.9,7.8,9.0],[7.8,7.0,8.5],[7.7,7.9,10.4]]\n",
    "df=pd.DataFrame(lst,index=[\"SBI\",\"ICICI\",\"HDFC\"],columns=[\"CAR LOAN\",\"HOME LOAN\",\"PERSONAL LOAN\"])\n",
    "print(df)"
   ]
  },
  {
   "cell_type": "code",
   "execution_count": 46,
   "id": "3075136e-d109-486d-893f-d9ad212abd2b",
   "metadata": {},
   "outputs": [
    {
     "name": "stdout",
     "output_type": "stream",
     "text": [
      "       CAR LOAN  HOME LOAN  PERSONAL LOAN\n",
      "SBI         8.9        7.8            9.0\n",
      "ICICI       7.8        7.0            8.5\n",
      "HDFC        7.7        7.9           10.4\n"
     ]
    }
   ],
   "source": [
    "# creating an object of dataframe by using the list object \n",
    "lst=((8.9,7.8,9.0),(7.8,7.0,8.5),(7.7,7.9,10.4))\n",
    "df=pd.DataFrame(lst,index=[\"SBI\",\"ICICI\",\"HDFC\"],columns=[\"CAR LOAN\",\"HOME LOAN\",\"PERSONAL LOAN\"])\n",
    "print(df)"
   ]
  },
  {
   "cell_type": "code",
   "execution_count": 48,
   "id": "d924cfa7-728f-4acf-87cc-f4e55001fd0d",
   "metadata": {},
   "outputs": [
    {
     "name": "stdout",
     "output_type": "stream",
     "text": [
      "       CAR LOAN  HOME LOAN  PERSONAL LOAN\n",
      "SBI         8.9        7.8            9.0\n",
      "ICICI       7.8        7.0            8.5\n",
      "HDFC        7.7        7.9           10.4\n"
     ]
    }
   ],
   "source": [
    "# creating an object of dataframe by using the list object \n",
    "lst=[(8.9,7.8,9.0),[7.8,7.0,8.5],(7.7,7.9,10.4)]\n",
    "df=pd.DataFrame(lst,index=[\"SBI\",\"ICICI\",\"HDFC\"],columns=[\"CAR LOAN\",\"HOME LOAN\",\"PERSONAL LOAN\"])\n",
    "print(df)"
   ]
  },
  {
   "cell_type": "code",
   "execution_count": 49,
   "id": "36843456-cd27-490b-8b27-f5e5b5bf559a",
   "metadata": {},
   "outputs": [
    {
     "name": "stdout",
     "output_type": "stream",
     "text": [
      "    0\n",
      "0  50\n",
      "1  20\n",
      "2  40\n",
      "3  10\n",
      "4  30 <class 'pandas.core.frame.DataFrame'>\n"
     ]
    }
   ],
   "source": [
    "# create a object of dataframe by using the  set object \n",
    "s={10,20,30,40,50,10}\n",
    "df=pd.DataFrame(s)\n",
    "print(df,type(df))"
   ]
  },
  {
   "cell_type": "code",
   "execution_count": 55,
   "id": "3633e78f-89a6-4612-9a74-ec699fa1fc45",
   "metadata": {},
   "outputs": [
    {
     "name": "stdout",
     "output_type": "stream",
     "text": [
      "    0   1   2   3   4   5\n",
      "0  10  20  30  40  50  10 <class 'pandas.core.frame.DataFrame'>\n"
     ]
    }
   ],
   "source": [
    "# create a object of dataframe by using the  set object \n",
    "s={(10,20,30,40,50,10)}\n",
    "df=pd.DataFrame(s)\n",
    "print(df,type(df))"
   ]
  },
  {
   "cell_type": "code",
   "execution_count": 59,
   "id": "40afb2d6-cc90-4112-a989-066adeb4645b",
   "metadata": {},
   "outputs": [
    {
     "name": "stdout",
     "output_type": "stream",
     "text": [
      "       10    20   30\n",
      "0  python  java  css\n"
     ]
    }
   ],
   "source": [
    "# create an object of data frame by using the object of dict\n",
    "d={10:\"python\",20:\"java\",30:\"css\"}\n",
    "df=pd.DataFrame(d,index=[0])\n",
    "print(df)"
   ]
  },
  {
   "cell_type": "code",
   "execution_count": 61,
   "id": "3107ffdc-44f7-46a7-b6f7-6a53d1f23883",
   "metadata": {},
   "outputs": [
    {
     "name": "stdout",
     "output_type": "stream",
     "text": [
      "    Rank1 Rank2\n",
      "0  PYTHON     C\n",
      "1     DSC   DSA\n"
     ]
    }
   ],
   "source": [
    "d={\"Rank1\":[\"PYTHON\",\"DSC\"],\"Rank2\":[\"C\",\"DSA\"]}\n",
    "df=pd.DataFrame(d)\n",
    "print(df)"
   ]
  },
  {
   "cell_type": "code",
   "execution_count": 67,
   "id": "22475313-f5a8-4532-a8b9-b6e6fa738c49",
   "metadata": {},
   "outputs": [
    {
     "name": "stdout",
     "output_type": "stream",
     "text": [
      "              SBI  ICICI  HDFC\n",
      "CARLOAN       8.9    7.8   0.7\n",
      "HOMELOAN      7.0    7.2   7.9\n",
      "PERSONALLOAN  9.0    9.5  10.4\n"
     ]
    }
   ],
   "source": [
    "d={\"SBI\":(8.9,7.0,9.0),\"ICICI\":[7.8,7.2,9.5],\"HDFC\":(.7,7.9,10.4)}\n",
    "df=pd.DataFrame(d,index=[\"CARLOAN\",\"HOMELOAN\",\"PERSONALLOAN\"])\n",
    "print(df)"
   ]
  }
 ],
 "metadata": {
  "kernelspec": {
   "display_name": "Python 3 (ipykernel)",
   "language": "python",
   "name": "python3"
  },
  "language_info": {
   "codemirror_mode": {
    "name": "ipython",
    "version": 3
   },
   "file_extension": ".py",
   "mimetype": "text/x-python",
   "name": "python",
   "nbconvert_exporter": "python",
   "pygments_lexer": "ipython3",
   "version": "3.12.4"
  }
 },
 "nbformat": 4,
 "nbformat_minor": 5
}
